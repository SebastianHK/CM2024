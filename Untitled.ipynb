{
 "cells": [
  {
   "cell_type": "code",
   "execution_count": null,
   "id": "0945e55f",
   "metadata": {},
   "outputs": [],
   "source": [
    "import matplotlib.pyplot as plt\n",
    "import numpy as np\n",
    "\n",
    "x = np.array([1, 0.84, 0.42, -0.14, -0.65, -0.96, -0.96, -0.65, 0.14, 0.42, 0.84])\n",
    "\n",
    "y = np.array([0, 0.54, 0.91, 0.99, 0.76, 0.28, -0.28, -0.76, -0.99, -0.91, -0.54])\n",
    "\n",
    "    \n",
    "\n",
    "plt.scatter(y, x)\n",
    "plt.show()\n",
    "\n",
    "print(np.corrcoef(x, y))\n",
    "print(np.correlate(x, y))"
   ]
  },
  {
   "cell_type": "code",
   "execution_count": null,
   "id": "7e70d110",
   "metadata": {},
   "outputs": [],
   "source": [
    "x = np.array([1,3,4,3,7])\n",
    "y = np.array([6,4,3,1,2])\n",
    "print('x en y')\n",
    "print(np.corrcoef(x,y))\n",
    "print('y en x')\n",
    "print(np.corrcoef(y,x))\n",
    "\n",
    "z = x * 2 + 1\n",
    "print('z en y')\n",
    "print(np.corrcoef(z,y))"
   ]
  },
  {
   "cell_type": "code",
   "execution_count": null,
   "id": "5809e123",
   "metadata": {},
   "outputs": [],
   "source": []
  }
 ],
 "metadata": {
  "kernelspec": {
   "display_name": "Python 3 (ipykernel)",
   "language": "python",
   "name": "python3"
  },
  "language_info": {
   "codemirror_mode": {
    "name": "ipython",
    "version": 3
   },
   "file_extension": ".py",
   "mimetype": "text/x-python",
   "name": "python",
   "nbconvert_exporter": "python",
   "pygments_lexer": "ipython3",
   "version": "3.11.5"
  }
 },
 "nbformat": 4,
 "nbformat_minor": 5
}
